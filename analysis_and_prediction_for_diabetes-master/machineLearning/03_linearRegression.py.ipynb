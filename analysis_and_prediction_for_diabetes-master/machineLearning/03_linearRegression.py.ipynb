{
 "cells": [
  {
   "cell_type": "code",
   "execution_count": 19,
   "metadata": {},
   "outputs": [],
   "source": [
    "import pandas as pd\n",
    "import numpy as np\n",
    "import matplotlib.pyplot as mp\n",
    "import sklearn.linear_model as linear\n",
    "from sklearn.model_selection import train_test_split\n",
    "import sklearn.metrics as sm\n",
    "import sklearn.model_selection as model_select\n",
    "\n",
    "pd.set_option(\"display.max_columns\", 1000)\n",
    "pd.set_option(\"display.width\", 1000)\n",
    "pd.set_option(\"display.max_colwidth\", 1000)\n",
    "\n",
    "\"\"\"\n",
    "选择逻辑分类回归模型  二元分类\n",
    "\"\"\"\n",
    "\n",
    "# ---------------------------------- get data -------------------------------\n",
    "df_tmp = pd.read_csv(\"../data/cleaned_pima_data.csv\")\n",
    "x = df_tmp[[\"Pregnancies\", \"Glucose\", \"BloodPressure\", \"BMI\", \"DiabetesPedigreeFunction\", \"Age\"]]\n",
    "y = df_tmp[\"Outcome\"]\n",
    "\n",
    "# ---- split train test ------\n",
    "x_train, x_test, y_train, y_test = train_test_split(x, y, random_state=7, test_size=0.25)\n",
    "\n",
    "\n",
    "# ----------------------fit and select hyper-parameter 选择最优超参数--------------------------\n",
    "\n",
    "C_lst = [1, 5, 10, 20, 30, 40, 50, 80, 100]\n",
    "df_acc = pd.DataFrame()\n",
    "\n",
    "for i in C_lst:\n",
    "    lr = linear.LogisticRegression(solver=\"liblinear\", C=i)\n",
    "    lr.fit(x_train, y_train)\n",
    "\n",
    "    # train accuracy\n",
    "    train_accuracy = model_select.cross_val_score(lr, x_train, y_train, cv=5, scoring=\"accuracy\")\n",
    "    train_accuracy_mean = train_accuracy.mean()\n",
    "\n",
    "    # test accuracy\n",
    "    test_accuracy = model_select.cross_val_score(lr, x_test, y_test, cv=5, scoring=\"accuracy\")\n",
    "    test_accuracy_mean = test_accuracy.mean()\n",
    "\n",
    "    # test f1_score\n",
    "    test_f1_score = model_select.cross_val_score(lr, x_test, y_test, cv=5, scoring=\"f1_weighted\")\n",
    "    test_f1_score_mean = test_f1_score.mean()\n",
    "\n",
    "    # test recall\n",
    "    test_recall = model_select.cross_val_score(lr, x_test, y_test, cv=5, scoring=\"recall_weighted\")\n",
    "    test_recall_mean = test_recall.mean()\n",
    "\n",
    "    # test precision\n",
    "    test_precision = model_select.cross_val_score(lr, x_test, y_test, cv=5, scoring=\"precision\")\n",
    "    test_precision_mean = test_precision.mean()\n",
    "\n",
    "    df_tmp = pd.DataFrame([[train_accuracy_mean, test_accuracy_mean, test_f1_score_mean,\n",
    "                            test_recall_mean, test_precision_mean]],\n",
    "                          columns=[\"train_accuracy\", \"test_accuracy\", \"test_f1_score\",\n",
    "                                   \"test_recall\", \"test_precision\"], index=[i])\n",
    "\n",
    "    df_acc = df_acc.append(df_tmp)\n",
    "\n",
    "df_acc = pd.DataFrame(df_acc, index=C_lst)"
   ]
  },
  {
   "cell_type": "code",
   "execution_count": 20,
   "metadata": {
    "pycharm": {
     "name": "#%%\n"
    }
   },
   "outputs": [
    {
     "data": {
      "text/html": [
       "<div>\n",
       "<style scoped>\n",
       "    .dataframe tbody tr th:only-of-type {\n",
       "        vertical-align: middle;\n",
       "    }\n",
       "\n",
       "    .dataframe tbody tr th {\n",
       "        vertical-align: top;\n",
       "    }\n",
       "\n",
       "    .dataframe thead th {\n",
       "        text-align: right;\n",
       "    }\n",
       "</style>\n",
       "<table border=\"1\" class=\"dataframe\">\n",
       "  <thead>\n",
       "    <tr style=\"text-align: right;\">\n",
       "      <th></th>\n",
       "      <th>train_accuracy</th>\n",
       "      <th>test_accuracy</th>\n",
       "      <th>test_f1_score</th>\n",
       "      <th>test_recall</th>\n",
       "      <th>test_precision</th>\n",
       "    </tr>\n",
       "  </thead>\n",
       "  <tbody>\n",
       "    <tr>\n",
       "      <td>1</td>\n",
       "      <td>0.752027</td>\n",
       "      <td>0.770040</td>\n",
       "      <td>0.753444</td>\n",
       "      <td>0.770040</td>\n",
       "      <td>0.774747</td>\n",
       "    </tr>\n",
       "    <tr>\n",
       "      <td>5</td>\n",
       "      <td>0.771053</td>\n",
       "      <td>0.765047</td>\n",
       "      <td>0.754708</td>\n",
       "      <td>0.765047</td>\n",
       "      <td>0.733312</td>\n",
       "    </tr>\n",
       "    <tr>\n",
       "      <td>10</td>\n",
       "      <td>0.774531</td>\n",
       "      <td>0.770310</td>\n",
       "      <td>0.760884</td>\n",
       "      <td>0.770310</td>\n",
       "      <td>0.738766</td>\n",
       "    </tr>\n",
       "    <tr>\n",
       "      <td>20</td>\n",
       "      <td>0.774531</td>\n",
       "      <td>0.780702</td>\n",
       "      <td>0.773429</td>\n",
       "      <td>0.780702</td>\n",
       "      <td>0.748918</td>\n",
       "    </tr>\n",
       "    <tr>\n",
       "      <td>30</td>\n",
       "      <td>0.774531</td>\n",
       "      <td>0.785965</td>\n",
       "      <td>0.779893</td>\n",
       "      <td>0.785965</td>\n",
       "      <td>0.755584</td>\n",
       "    </tr>\n",
       "    <tr>\n",
       "      <td>40</td>\n",
       "      <td>0.774531</td>\n",
       "      <td>0.791228</td>\n",
       "      <td>0.785827</td>\n",
       "      <td>0.791228</td>\n",
       "      <td>0.760130</td>\n",
       "    </tr>\n",
       "    <tr>\n",
       "      <td>50</td>\n",
       "      <td>0.774531</td>\n",
       "      <td>0.791228</td>\n",
       "      <td>0.785827</td>\n",
       "      <td>0.791228</td>\n",
       "      <td>0.760130</td>\n",
       "    </tr>\n",
       "    <tr>\n",
       "      <td>80</td>\n",
       "      <td>0.776255</td>\n",
       "      <td>0.791228</td>\n",
       "      <td>0.785827</td>\n",
       "      <td>0.791228</td>\n",
       "      <td>0.760130</td>\n",
       "    </tr>\n",
       "    <tr>\n",
       "      <td>100</td>\n",
       "      <td>0.776255</td>\n",
       "      <td>0.791228</td>\n",
       "      <td>0.785827</td>\n",
       "      <td>0.791228</td>\n",
       "      <td>0.760130</td>\n",
       "    </tr>\n",
       "  </tbody>\n",
       "</table>\n",
       "</div>"
      ],
      "text/plain": [
       "     train_accuracy  test_accuracy  test_f1_score  test_recall  test_precision\n",
       "1          0.752027       0.770040       0.753444     0.770040        0.774747\n",
       "5          0.771053       0.765047       0.754708     0.765047        0.733312\n",
       "10         0.774531       0.770310       0.760884     0.770310        0.738766\n",
       "20         0.774531       0.780702       0.773429     0.780702        0.748918\n",
       "30         0.774531       0.785965       0.779893     0.785965        0.755584\n",
       "40         0.774531       0.791228       0.785827     0.791228        0.760130\n",
       "50         0.774531       0.791228       0.785827     0.791228        0.760130\n",
       "80         0.776255       0.791228       0.785827     0.791228        0.760130\n",
       "100        0.776255       0.791228       0.785827     0.791228        0.760130"
      ]
     },
     "execution_count": 20,
     "metadata": {},
     "output_type": "execute_result"
    }
   ],
   "source": [
    "df_acc"
   ]
  },
  {
   "cell_type": "code",
   "execution_count": 21,
   "metadata": {
    "pycharm": {
     "name": "#%%\n"
    }
   },
   "outputs": [
    {
     "data": {
      "image/png": "[encoded data removed]",
      "text/plain": [
       "<Figure size 432x288 with 1 Axes>"
      ]
     },
     "metadata": {},
     "output_type": "display_data"
    }
   ],
   "source": [
    "# ------draw plot accuracy-------各个超参数准确率可视化------------------\n",
    "mp.rcParams[\"font.sans-serif\"] = [\"SimHei\"]\n",
    "mp.rcParams[\"axes.unicode_minus\"] = False\n",
    "\n",
    "mp.figure(\"LogisticRegression 超参数-准确度\", facecolor=\"lightgray\")\n",
    "mp.title(\"LogisticRegression 超参数-准确度\")\n",
    "mp.xlabel(\"超参数\")\n",
    "mp.ylabel(\"准确度\")\n",
    "\n",
    "bar_x = np.arange(df_acc[\"train_accuracy\"].shape[0])\n",
    "\n",
    "# mp.bar(bar_x - 0.2, train_accuracy_lst, 0.4, color=\"dodgerblue\", label=\"训练集_准确率\", align=\"center\")\n",
    "mp.bar(bar_x - 0.2, df_acc[\"train_accuracy\"], 0.4, color=\"dodgerblue\", label=\"训练集_准确率\", align=\"center\")\n",
    "mp.bar(bar_x + 0.2, df_acc[\"test_accuracy\"], 0.4, color=\"orangered\", label=\"测试集准_确率\", align=\"center\")\n",
    "\n",
    "mp.plot(bar_x, df_acc[\"test_f1_score\"], \"o-\", color=\"orange\", label=\"测试集_f1分数\")\n",
    "mp.plot(bar_x, df_acc[\"test_recall\"], \"o-\", color=\"green\", label=\"测试集_召回率\")\n",
    "mp.plot(bar_x, df_acc[\"test_precision\"], \"o-\", color=\"violet\", label=\"测试集_精确率\")\n",
    "\n",
    "ax = mp.gca()\n",
    "ax.yaxis.set_major_locator(mp.MultipleLocator(0.1))\n",
    "ax.yaxis.set_minor_locator(mp.MultipleLocator(0.01))\n",
    "\n",
    "mp.ylim([0.4, 1])\n",
    "mp.xticks(bar_x, C_lst)\n",
    "mp.legend()\n",
    "mp.grid(\":\", alpha=0.8)\n",
    "mp.show()"
   ]
  },
  {
   "cell_type": "code",
   "execution_count": 22,
   "metadata": {
    "pycharm": {
     "name": "#%%\n"
    }
   },
   "outputs": [
    {
     "data": {
      "text/plain": [
       "5      0.765047\n",
       "1      0.770040\n",
       "10     0.770310\n",
       "20     0.780702\n",
       "30     0.785965\n",
       "40     0.791228\n",
       "50     0.791228\n",
       "80     0.791228\n",
       "100    0.791228\n",
       "Name: test_accuracy, dtype: float64"
      ]
     },
     "execution_count": 22,
     "metadata": {},
     "output_type": "execute_result"
    }
   ],
   "source": [
    "# --------------------选择最优超参数-------------\n",
    "sorted_index_lst = df_acc[\"test_accuracy\"].sort_values().index\n",
    "tar = df_acc.loc[sorted_index_lst, \"test_accuracy\"]\n",
    "\n",
    "tar\n"
   ]
  },
  {
   "cell_type": "code",
   "execution_count": 23,
   "metadata": {
    "pycharm": {
     "name": "#%%\n"
    }
   },
   "outputs": [
    {
     "name": "stdout",
     "output_type": "stream",
     "text": [
      "(0.7912280701754385, 40)\n"
     ]
    },
    {
     "data": {
      "text/plain": [
       "40"
      ]
     },
     "execution_count": 23,
     "metadata": {},
     "output_type": "execute_result"
    }
   ],
   "source": [
    "max = df_acc.loc[sorted_index_lst[0], \"test_accuracy\"], sorted_index_lst[0]\n",
    "\n",
    "for ind in sorted_index_lst[1:]:\n",
    "    tmp = df_acc.loc[ind, \"test_accuracy\"]\n",
    "    if max[0] < tmp:\n",
    "        max = tmp, ind\n",
    "\n",
    "print(max)\n",
    "# (0.7912280701754385, 40)\n",
    "# 最优超参数\n",
    "best_hyper_param = max[1]\n",
    "\n",
    "best_hyper_param"
   ]
  },
  {
   "cell_type": "code",
   "execution_count": 24,
   "metadata": {
    "pycharm": {
     "name": "#%%\n"
    }
   },
   "outputs": [
    {
     "name": "stdout",
     "output_type": "stream",
     "text": [
      "              precision    recall  f1-score   support\n",
      "\n",
      "           0       0.78      0.89      0.83       122\n",
      "           1       0.74      0.57      0.65        70\n",
      "\n",
      "    accuracy                           0.77       192\n",
      "   macro avg       0.76      0.73      0.74       192\n",
      "weighted avg       0.77      0.77      0.76       192\n",
      "\n"
     ]
    }
   ],
   "source": [
    "# ---------------------------------- 使用最优超参数,训练 -------------------------------\n",
    "lr = linear.LogisticRegression(solver=\"liblinear\", C=best_hyper_param)\n",
    "lr.fit(x_train, y_train)\n",
    "\n",
    "# ---测试准确度----\n",
    "y_pre = lr.predict(x_test)\n",
    "\n",
    "# 分类报告\n",
    "res = sm.classification_report(y_test, y_pre)\n",
    "\n",
    "print(res)\n"
   ]
  }
 ],
 "metadata": {
  "kernelspec": {
   "display_name": "Python 3",
   "language": "python",
   "name": "python3"
  },
  "language_info": {
   "codemirror_mode": {
    "name": "ipython",
    "version": 3
   },
   "file_extension": ".py",
   "mimetype": "text/x-python",
   "name": "python",
   "nbconvert_exporter": "python",
   "pygments_lexer": "ipython3",
   "version": "3.6.8"
  },
  "pycharm": {
   "stem_cell": {
    "cell_type": "raw",
    "source": [],
    "metadata": {
     "collapsed": false
    }
   }
  }
 },
 "nbformat": 4,
 "nbformat_minor": 1
}