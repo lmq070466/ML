{
 "cells": [
  {
   "cell_type": "code",
   "execution_count": null,
   "metadata": {
    "collapsed": true,
    "pycharm": {
     "name": "#%%\n"
    }
   },
   "outputs": [],
   "source": [
    "\"\"\"\n",
    "简单使用集中模型进行预测:\n",
    "逻辑回归,线性判别分析,决策树,高斯贝叶斯分类器,支持向量机SVM分类器,k邻近算法\n",
    "                     LR      LDA    DTree       NB      SVM      KNN\n",
    "train_accuracy  0.75369  0.77278  0.68917  0.76410  0.65451  0.72931\n",
    "train_f1_score  0.74339  0.76426  0.68281  0.75828  0.52142  0.72357\n",
    "test_accuracy   0.77604  0.77604  0.68229  0.75521  0.63542  0.72917\n",
    "\"\"\"\n",
    "import pandas as pd\n",
    "import numpy as np\n",
    "from sklearn.discriminant_analysis import LinearDiscriminantAnalysis\n",
    "from sklearn.model_selection import train_test_split\n",
    "from sklearn.model_selection import cross_val_predict\n",
    "from sklearn.linear_model import LogisticRegression\n",
    "from sklearn.naive_bayes import GaussianNB\n",
    "from sklearn.neighbors import KNeighborsClassifier\n",
    "from sklearn.svm import SVC\n",
    "from sklearn.tree import DecisionTreeClassifier\n",
    "from sklearn import model_selection\n",
    "import matplotlib.pyplot as mp\n",
    "from sklearn import metrics\n",
    "\n",
    "# ---------------------------------- get data -------------------------------\n",
    "df = pd.read_csv(\"../data/cleaned_pima_data.csv\")\n",
    "\n",
    "# ---------------------------------- x, y 赋值 -------------------------------\n",
    "x = df[[\"Pregnancies\", \"Glucose\", \"BloodPressure\", \"BMI\", \"DiabetesPedigreeFunction\", \"Age\"]]\n",
    "y = df[\"Outcome\"]\n",
    "\n",
    "# ---------------------------------- split train test -------------------------------\n",
    "x_train, x_test, y_train, y_test = train_test_split(x, y, random_state=7, test_size=0.25)\n",
    "\n",
    "# ---------------------------------- models -------------------------------\n",
    "models = []\n",
    "models.append((\"LR\", LogisticRegression()))  # 逻辑回归\n",
    "models.append((\"LDA\", LinearDiscriminantAnalysis()))  # 线性判别分析\n",
    "models.append((\"DTree\", DecisionTreeClassifier()))  # 决策树\n",
    "models.append((\"NB\", GaussianNB()))  # 高斯贝叶斯分类器\n",
    "models.append((\"SVM\", SVC()))  # 支持向量机SVM\n",
    "models.append((\"KNN\", KNeighborsClassifier()))  # k邻近算法\n",
    "\n",
    "model_names = []\n",
    "train_accuracy = []\n",
    "train_f1_score = []\n",
    "test_accuracy = []\n",
    "\n",
    "for name, model in models:\n",
    "    kfold = model_selection.KFold(n_splits=10, random_state=7)\n",
    "\n",
    "    # train\n",
    "    train_acc = model_selection.cross_val_score(model, x_train, y_train, cv=kfold, scoring=\"accuracy\")\n",
    "\n",
    "    train_f1 = model_selection.cross_val_score(model, x_train, y_train, cv=kfold, scoring=\"f1_weighted\")\n",
    "\n",
    "    # test\n",
    "    y_test_pre = cross_val_predict(model, x_test, y_test, cv=kfold)\n",
    "    test_acc = metrics.accuracy_score(y_test, y_test_pre)\n",
    "\n",
    "    model_names.append(name)\n",
    "    train_accuracy.append(round(train_acc.mean(), 5))\n",
    "    train_f1_score.append(round(train_f1.mean(), 5))\n",
    "    test_accuracy.append(round(test_acc, 5))\n",
    "\n",
    "columns = model_names\n",
    "df = pd.DataFrame(columns=columns)\n",
    "df.loc[\"train_accuracy\"] = train_accuracy\n",
    "df.loc[\"train_f1_score\"] = train_f1_score\n",
    "df.loc[\"test_accuracy\"] = test_accuracy\n",
    "\n",
    "print(\"=\" * 50)\n",
    "print(df)\n",
    "\n",
    "\"\"\"\n",
    "                     LR      LDA    DTree       NB      SVM      KNN\n",
    "train_accuracy  0.75369  0.77278  0.68917  0.76410  0.65451  0.72931\n",
    "train_f1_score  0.74339  0.76426  0.68281  0.75828  0.52142  0.72357\n",
    "test_accuracy   0.77604  0.77604  0.68229  0.75521  0.63542  0.72917\n",
    "\"\"\""
   ]
  },
  {
   "cell_type": "code",
   "execution_count": null,
   "outputs": [],
   "source": [
    "# ---------------------------------- plot -------------------------------\n",
    "\n",
    "mp.figure(\"accuracy_score\", facecolor=\"lightgray\")\n",
    "mp.title(\"accuracy_score\")\n",
    "\n",
    "ax = mp.gca()\n",
    "ax.yaxis.set_minor_locator(mp.MultipleLocator(0.01))\n",
    "ax.yaxis.set_major_locator(mp.MultipleLocator(0.05))\n",
    "\n",
    "mp.xlabel(\"models\")\n",
    "mp.ylabel(\"accuracy\")\n",
    "\n",
    "size_ = np.arange(len(columns))\n",
    "mp.bar(size_ - 0.2, train_accuracy, width=0.4, color=\"dodgerblue\", zorder=3, label=\"train accuracy\")\n",
    "mp.bar(size_ + 0.2, test_accuracy, width=0.4, color=\"orange\", zorder=3, label=\"test accuracy\")\n",
    "mp.plot(size_, train_f1_score, \"o-\", color=\"red\", zorder=5, label=\"train f1_score\")\n",
    "\n",
    "mp.ylim(0.4, 0.9)\n",
    "mp.xticks(size_, model_names)\n",
    "\n",
    "mp.grid(\":\")\n",
    "mp.legend()\n",
    "mp.show()\n",
    "\n"
   ],
   "metadata": {
    "collapsed": false,
    "pycharm": {
     "name": "#%%\n"
    }
   }
  }
 ],
 "metadata": {
  "language_info": {
   "codemirror_mode": {
    "name": "ipython",
    "version": 2
   },
   "file_extension": ".py",
   "mimetype": "text/x-python",
   "name": "python",
   "nbconvert_exporter": "python",
   "pygments_lexer": "ipython2",
   "version": "2.7.6"
  },
  "kernelspec": {
   "name": "python3",
   "language": "python",
   "display_name": "Python 3"
  },
  "pycharm": {
   "stem_cell": {
    "cell_type": "raw",
    "source": [],
    "metadata": {
     "collapsed": false
    }
   }
  }
 },
 "nbformat": 4,
 "nbformat_minor": 0
}