{
 "cells": [
  {
   "cell_type": "code",
   "execution_count": 1,
   "metadata": {},
   "outputs": [],
   "source": [
    "\"\"\"\n",
    "清洗数据后------数据分析---BMI特征分析\n",
    "\"\"\"\n",
    "import pandas as pd\n",
    "import matplotlib.pyplot as mp\n",
    "import seaborn as sns\n",
    "\n",
    "pd.set_option('display.max_columns', 1000)\n",
    "pd.set_option('display.width', 1000)\n",
    "pd.set_option('display.max_colwidth', 1000)\n",
    "\n",
    "mp.rcParams['font.sans-serif'] = ['SimHei']\n",
    "mp.rcParams['axes.unicode_minus'] = False\n",
    "\"\"\"\n",
    "参考\n",
    "\n",
    "      Pregnancies     Glucose  BloodPressure        BMI  DiabetesPedigreeFunction        Age  Outcome\n",
    "非糖尿病     3.298000  110.643863      71.114000  30.960000                  0.429734  31.190000      0.0\n",
    "糖尿病      4.865672  142.319549      75.988806  35.409701                  0.550500  37.067164      1.0\n",
    "\n",
    "\"\"\"\n",
    "# ---------------------------------- get data -------------------------------\n",
    "pima_data = pd.read_csv(\"../data/cleaned_pima_data.csv\")\n"
   ]
  },
  {
   "cell_type": "code",
   "execution_count": 2,
   "metadata": {
    "pycharm": {
     "name": "#%%\n"
    }
   },
   "outputs": [
    {
     "data": {
      "text/plain": [
       "count    768.000000\n",
       "mean      32.512760\n",
       "std        6.930700\n",
       "min       18.200000\n",
       "25%       27.500000\n",
       "50%       32.400000\n",
       "75%       36.725000\n",
       "max       67.100000\n",
       "range     48.900000\n",
       "var        0.213169\n",
       "dis        9.225000\n",
       "Name: BMI, dtype: float64"
      ]
     },
     "execution_count": 2,
     "metadata": {},
     "output_type": "execute_result"
    }
   ],
   "source": [
    "# ------------计算数据------------\n",
    "statistics = pima_data[\"BMI\"].describe()\n",
    "\n",
    "statistics['range'] = statistics['max'] - statistics['min']  # 极差\n",
    "statistics['var'] = statistics['std'] / statistics['mean']  # 方差\n",
    "statistics['dis'] = statistics['75%'] - statistics['25%']  # 四分距\n",
    "statistics"
   ]
  },
  {
   "cell_type": "code",
   "execution_count": 3,
   "metadata": {
    "pycharm": {
     "name": "#%%\n"
    }
   },
   "outputs": [
    {
     "name": "stdout",
     "output_type": "stream",
     "text": [
      "--------查看bmi的值大于40的情况-------\n",
      "总共有36人\n"
     ]
    },
    {
     "data": {
      "text/html": [
       "<div>\n",
       "<style scoped>\n",
       "    .dataframe tbody tr th:only-of-type {\n",
       "        vertical-align: middle;\n",
       "    }\n",
       "\n",
       "    .dataframe tbody tr th {\n",
       "        vertical-align: top;\n",
       "    }\n",
       "\n",
       "    .dataframe thead th {\n",
       "        text-align: right;\n",
       "    }\n",
       "</style>\n",
       "<table border=\"1\" class=\"dataframe\">\n",
       "  <thead>\n",
       "    <tr style=\"text-align: right;\">\n",
       "      <th></th>\n",
       "      <th>Pregnancies</th>\n",
       "      <th>Glucose</th>\n",
       "      <th>BloodPressure</th>\n",
       "      <th>BMI</th>\n",
       "      <th>DiabetesPedigreeFunction</th>\n",
       "      <th>Age</th>\n",
       "      <th>Outcome</th>\n",
       "    </tr>\n",
       "  </thead>\n",
       "  <tbody>\n",
       "    <tr>\n",
       "      <td>16</td>\n",
       "      <td>0</td>\n",
       "      <td>118.0</td>\n",
       "      <td>84</td>\n",
       "      <td>45.8</td>\n",
       "      <td>0.551</td>\n",
       "      <td>31</td>\n",
       "      <td>1</td>\n",
       "    </tr>\n",
       "    <tr>\n",
       "      <td>43</td>\n",
       "      <td>9</td>\n",
       "      <td>171.0</td>\n",
       "      <td>110</td>\n",
       "      <td>45.4</td>\n",
       "      <td>0.721</td>\n",
       "      <td>54</td>\n",
       "      <td>1</td>\n",
       "    </tr>\n",
       "    <tr>\n",
       "      <td>57</td>\n",
       "      <td>0</td>\n",
       "      <td>100.0</td>\n",
       "      <td>88</td>\n",
       "      <td>46.8</td>\n",
       "      <td>0.962</td>\n",
       "      <td>31</td>\n",
       "      <td>0</td>\n",
       "    </tr>\n",
       "    <tr>\n",
       "      <td>60</td>\n",
       "      <td>2</td>\n",
       "      <td>84.0</td>\n",
       "      <td>66</td>\n",
       "      <td>49.4</td>\n",
       "      <td>0.304</td>\n",
       "      <td>21</td>\n",
       "      <td>0</td>\n",
       "    </tr>\n",
       "    <tr>\n",
       "      <td>84</td>\n",
       "      <td>5</td>\n",
       "      <td>137.0</td>\n",
       "      <td>108</td>\n",
       "      <td>48.8</td>\n",
       "      <td>0.227</td>\n",
       "      <td>37</td>\n",
       "      <td>1</td>\n",
       "    </tr>\n",
       "    <tr>\n",
       "      <td>92</td>\n",
       "      <td>7</td>\n",
       "      <td>81.0</td>\n",
       "      <td>78</td>\n",
       "      <td>46.7</td>\n",
       "      <td>0.261</td>\n",
       "      <td>42</td>\n",
       "      <td>0</td>\n",
       "    </tr>\n",
       "    <tr>\n",
       "      <td>99</td>\n",
       "      <td>1</td>\n",
       "      <td>122.0</td>\n",
       "      <td>90</td>\n",
       "      <td>49.7</td>\n",
       "      <td>0.325</td>\n",
       "      <td>31</td>\n",
       "      <td>1</td>\n",
       "    </tr>\n",
       "    <tr>\n",
       "      <td>120</td>\n",
       "      <td>0</td>\n",
       "      <td>162.0</td>\n",
       "      <td>76</td>\n",
       "      <td>53.2</td>\n",
       "      <td>0.759</td>\n",
       "      <td>25</td>\n",
       "      <td>1</td>\n",
       "    </tr>\n",
       "  </tbody>\n",
       "</table>\n",
       "</div>"
      ],
      "text/plain": [
       "     Pregnancies  Glucose  BloodPressure   BMI  DiabetesPedigreeFunction  Age  Outcome\n",
       "16             0    118.0             84  45.8                     0.551   31        1\n",
       "43             9    171.0            110  45.4                     0.721   54        1\n",
       "57             0    100.0             88  46.8                     0.962   31        0\n",
       "60             2     84.0             66  49.4                     0.304   21        0\n",
       "84             5    137.0            108  48.8                     0.227   37        1\n",
       "92             7     81.0             78  46.7                     0.261   42        0\n",
       "99             1    122.0             90  49.7                     0.325   31        1\n",
       "120            0    162.0             76  53.2                     0.759   25        1"
      ]
     },
     "execution_count": 3,
     "metadata": {},
     "output_type": "execute_result"
    }
   ],
   "source": [
    "# -------------------------查看bmi的值大于45的情况-------------------------\n",
    "print(\"--------查看bmi的值大于45的情况-------\")\n",
    "check = pima_data.loc[pima_data[\"BMI\"] > 45]\n",
    "print(\"总共有%d人\" % check.shape[0])\n",
    "# 总共有36人\n",
    "\n",
    "\"\"\"\n",
    "可见,其一样本:bmi值高达46和49,但是她们没有得病,她们的血压和葡萄糖都很低,这些原因极有可能能够降低糖尿病的发生;\n",
    "\n",
    "其一样本: BMI值是53.2,非常高,她得糖尿病了,虽然她很年轻才25岁,血压也很低76,但是她的葡萄糖很高162 + BMI是53.2,\n",
    "就算她很年轻,葡萄糖和bmi都高,都会导致糖尿病的发生\n",
    "\"\"\"\n",
    "check.head(8)\n",
    "\n"
   ]
  },
  {
   "cell_type": "code",
   "execution_count": 4,
   "metadata": {
    "pycharm": {
     "name": "#%%\n"
    }
   },
   "outputs": [
    {
     "name": "stdout",
     "output_type": "stream",
     "text": [
      "--------bmi的值大于45,但不得糖尿病的情况-------\n",
      "总共有14人\n"
     ]
    },
    {
     "data": {
      "text/html": [
       "<div>\n",
       "<style scoped>\n",
       "    .dataframe tbody tr th:only-of-type {\n",
       "        vertical-align: middle;\n",
       "    }\n",
       "\n",
       "    .dataframe tbody tr th {\n",
       "        vertical-align: top;\n",
       "    }\n",
       "\n",
       "    .dataframe thead th {\n",
       "        text-align: right;\n",
       "    }\n",
       "</style>\n",
       "<table border=\"1\" class=\"dataframe\">\n",
       "  <thead>\n",
       "    <tr style=\"text-align: right;\">\n",
       "      <th></th>\n",
       "      <th>Pregnancies</th>\n",
       "      <th>Glucose</th>\n",
       "      <th>BloodPressure</th>\n",
       "      <th>BMI</th>\n",
       "      <th>DiabetesPedigreeFunction</th>\n",
       "      <th>Age</th>\n",
       "      <th>Outcome</th>\n",
       "    </tr>\n",
       "  </thead>\n",
       "  <tbody>\n",
       "    <tr>\n",
       "      <td>57</td>\n",
       "      <td>0</td>\n",
       "      <td>100.0</td>\n",
       "      <td>88</td>\n",
       "      <td>46.8</td>\n",
       "      <td>0.962</td>\n",
       "      <td>31</td>\n",
       "      <td>0</td>\n",
       "    </tr>\n",
       "    <tr>\n",
       "      <td>60</td>\n",
       "      <td>2</td>\n",
       "      <td>84.0</td>\n",
       "      <td>66</td>\n",
       "      <td>49.4</td>\n",
       "      <td>0.304</td>\n",
       "      <td>21</td>\n",
       "      <td>0</td>\n",
       "    </tr>\n",
       "    <tr>\n",
       "      <td>92</td>\n",
       "      <td>7</td>\n",
       "      <td>81.0</td>\n",
       "      <td>78</td>\n",
       "      <td>46.7</td>\n",
       "      <td>0.261</td>\n",
       "      <td>42</td>\n",
       "      <td>0</td>\n",
       "    </tr>\n",
       "    <tr>\n",
       "      <td>229</td>\n",
       "      <td>0</td>\n",
       "      <td>117.0</td>\n",
       "      <td>80</td>\n",
       "      <td>45.2</td>\n",
       "      <td>0.089</td>\n",
       "      <td>24</td>\n",
       "      <td>0</td>\n",
       "    </tr>\n",
       "    <tr>\n",
       "      <td>247</td>\n",
       "      <td>0</td>\n",
       "      <td>165.0</td>\n",
       "      <td>90</td>\n",
       "      <td>52.3</td>\n",
       "      <td>0.427</td>\n",
       "      <td>23</td>\n",
       "      <td>0</td>\n",
       "    </tr>\n",
       "    <tr>\n",
       "      <td>335</td>\n",
       "      <td>0</td>\n",
       "      <td>165.0</td>\n",
       "      <td>76</td>\n",
       "      <td>47.9</td>\n",
       "      <td>0.259</td>\n",
       "      <td>26</td>\n",
       "      <td>0</td>\n",
       "    </tr>\n",
       "    <tr>\n",
       "      <td>420</td>\n",
       "      <td>1</td>\n",
       "      <td>119.0</td>\n",
       "      <td>88</td>\n",
       "      <td>45.3</td>\n",
       "      <td>0.507</td>\n",
       "      <td>26</td>\n",
       "      <td>0</td>\n",
       "    </tr>\n",
       "    <tr>\n",
       "      <td>469</td>\n",
       "      <td>6</td>\n",
       "      <td>154.0</td>\n",
       "      <td>78</td>\n",
       "      <td>46.1</td>\n",
       "      <td>0.571</td>\n",
       "      <td>27</td>\n",
       "      <td>0</td>\n",
       "    </tr>\n",
       "  </tbody>\n",
       "</table>\n",
       "</div>"
      ],
      "text/plain": [
       "     Pregnancies  Glucose  BloodPressure   BMI  DiabetesPedigreeFunction  Age  Outcome\n",
       "57             0    100.0             88  46.8                     0.962   31        0\n",
       "60             2     84.0             66  49.4                     0.304   21        0\n",
       "92             7     81.0             78  46.7                     0.261   42        0\n",
       "229            0    117.0             80  45.2                     0.089   24        0\n",
       "247            0    165.0             90  52.3                     0.427   23        0\n",
       "335            0    165.0             76  47.9                     0.259   26        0\n",
       "420            1    119.0             88  45.3                     0.507   26        0\n",
       "469            6    154.0             78  46.1                     0.571   27        0"
      ]
     },
     "execution_count": 4,
     "metadata": {},
     "output_type": "execute_result"
    }
   ],
   "source": [
    "# -------------------------查看bmi的值大于45,但不得糖尿病的情况-------------------------\n",
    "print(\"--------bmi的值大于45,但不得糖尿病的情况-------\")\n",
    "check = pima_data.loc[(pima_data[\"BMI\"] > 45) & (pima_data[\"Outcome\"] == 0)]\n",
    "print(\"总共有%d人\" % check.shape[0])\n",
    "# 总共有36人\n",
    "check.head(8)"
   ]
  },
  {
   "cell_type": "code",
   "execution_count": 5,
   "metadata": {
    "pycharm": {
     "name": "#%%\n"
    }
   },
   "outputs": [
    {
     "name": "stdout",
     "output_type": "stream",
     "text": [
      "Pregnancies                   2.214286\n",
      "Glucose                     117.071429\n",
      "BloodPressure                79.714286\n",
      "BMI                          47.614286\n",
      "DiabetesPedigreeFunction      0.537214\n",
      "Age                          31.714286\n",
      "Outcome                       0.000000\n",
      "dtype: float64\n"
     ]
    },
    {
     "data": {
      "text/plain": [
       "'\\nPregnancies                   2.214286  糖尿病该特征均值4.86,非糖均值:3.29\\nGlucose                     117.071429  糖尿病该特征均值140,非糖均值:110\\nBloodPressure                79.714286  糖尿病该特征均值75,非糖均值:71\\nBMI                          47.614286  糖尿病该特征均值35,非糖均值:30\\nDiabetesPedigreeFunction      0.537214  糖尿病该特征均值0.55,非糖均值:0.42\\nAge                          31.714286  糖尿病该特征均值37,非糖均值:31\\nOutcome                       0.000000\\ndtype: float64\\n\\nbmi的值高,不得糖尿病的人当中,怀孕次数比较少,尤其是血压低\\n由此可见,身体肥胖的人,把血压降低,葡萄糖降低,怀孕次数减少,可以一定程度上降低糖尿病的发生\\n'"
      ]
     },
     "execution_count": 5,
     "metadata": {},
     "output_type": "execute_result"
    }
   ],
   "source": [
    "print(check.mean(axis=0))\n",
    "\"\"\"\n",
    "Pregnancies                   2.214286  糖尿病该特征均值4.86,非糖均值:3.29\n",
    "Glucose                     117.071429  糖尿病该特征均值140,非糖均值:110\n",
    "BloodPressure                79.714286  糖尿病该特征均值75,非糖均值:71\n",
    "BMI                          47.614286  糖尿病该特征均值35,非糖均值:30\n",
    "DiabetesPedigreeFunction      0.537214  糖尿病该特征均值0.55,非糖均值:0.42\n",
    "Age                          31.714286  糖尿病该特征均值37,非糖均值:31\n",
    "Outcome                       0.000000\n",
    "dtype: float64\n",
    "\n",
    "bmi的值高,不得糖尿病的人当中,怀孕次数比较少,尤其是血压低\n",
    "由此可见,身体肥胖的人,把血压降低,葡萄糖降低,怀孕次数减少,可以一定程度上降低糖尿病的发生\n",
    "\"\"\"\n"
   ]
  },
  {
   "cell_type": "code",
   "execution_count": 6,
   "metadata": {
    "pycharm": {
     "name": "#%%\n"
    }
   },
   "outputs": [
    {
     "name": "stdout",
     "output_type": "stream",
     "text": [
      "--------查看bmi的值小于25,但得糖尿病的情况-------\n",
      "总共有7人\n"
     ]
    },
    {
     "data": {
      "text/html": [
       "<div>\n",
       "<style scoped>\n",
       "    .dataframe tbody tr th:only-of-type {\n",
       "        vertical-align: middle;\n",
       "    }\n",
       "\n",
       "    .dataframe tbody tr th {\n",
       "        vertical-align: top;\n",
       "    }\n",
       "\n",
       "    .dataframe thead th {\n",
       "        text-align: right;\n",
       "    }\n",
       "</style>\n",
       "<table border=\"1\" class=\"dataframe\">\n",
       "  <thead>\n",
       "    <tr style=\"text-align: right;\">\n",
       "      <th></th>\n",
       "      <th>Pregnancies</th>\n",
       "      <th>Glucose</th>\n",
       "      <th>BloodPressure</th>\n",
       "      <th>BMI</th>\n",
       "      <th>DiabetesPedigreeFunction</th>\n",
       "      <th>Age</th>\n",
       "      <th>Outcome</th>\n",
       "    </tr>\n",
       "  </thead>\n",
       "  <tbody>\n",
       "    <tr>\n",
       "      <td>2</td>\n",
       "      <td>8</td>\n",
       "      <td>183.0</td>\n",
       "      <td>64</td>\n",
       "      <td>23.3</td>\n",
       "      <td>0.672</td>\n",
       "      <td>32</td>\n",
       "      <td>1</td>\n",
       "    </tr>\n",
       "    <tr>\n",
       "      <td>93</td>\n",
       "      <td>4</td>\n",
       "      <td>134.0</td>\n",
       "      <td>72</td>\n",
       "      <td>23.8</td>\n",
       "      <td>0.277</td>\n",
       "      <td>60</td>\n",
       "      <td>1</td>\n",
       "    </tr>\n",
       "    <tr>\n",
       "      <td>197</td>\n",
       "      <td>3</td>\n",
       "      <td>107.0</td>\n",
       "      <td>62</td>\n",
       "      <td>22.9</td>\n",
       "      <td>0.678</td>\n",
       "      <td>23</td>\n",
       "      <td>1</td>\n",
       "    </tr>\n",
       "    <tr>\n",
       "      <td>319</td>\n",
       "      <td>6</td>\n",
       "      <td>194.0</td>\n",
       "      <td>78</td>\n",
       "      <td>23.5</td>\n",
       "      <td>0.129</td>\n",
       "      <td>59</td>\n",
       "      <td>1</td>\n",
       "    </tr>\n",
       "    <tr>\n",
       "      <td>646</td>\n",
       "      <td>1</td>\n",
       "      <td>167.0</td>\n",
       "      <td>74</td>\n",
       "      <td>23.4</td>\n",
       "      <td>0.447</td>\n",
       "      <td>33</td>\n",
       "      <td>1</td>\n",
       "    </tr>\n",
       "    <tr>\n",
       "      <td>676</td>\n",
       "      <td>9</td>\n",
       "      <td>156.0</td>\n",
       "      <td>86</td>\n",
       "      <td>24.8</td>\n",
       "      <td>0.230</td>\n",
       "      <td>53</td>\n",
       "      <td>1</td>\n",
       "    </tr>\n",
       "    <tr>\n",
       "      <td>749</td>\n",
       "      <td>6</td>\n",
       "      <td>162.0</td>\n",
       "      <td>62</td>\n",
       "      <td>24.3</td>\n",
       "      <td>0.178</td>\n",
       "      <td>50</td>\n",
       "      <td>1</td>\n",
       "    </tr>\n",
       "  </tbody>\n",
       "</table>\n",
       "</div>"
      ],
      "text/plain": [
       "     Pregnancies  Glucose  BloodPressure   BMI  DiabetesPedigreeFunction  Age  Outcome\n",
       "2              8    183.0             64  23.3                     0.672   32        1\n",
       "93             4    134.0             72  23.8                     0.277   60        1\n",
       "197            3    107.0             62  22.9                     0.678   23        1\n",
       "319            6    194.0             78  23.5                     0.129   59        1\n",
       "646            1    167.0             74  23.4                     0.447   33        1\n",
       "676            9    156.0             86  24.8                     0.230   53        1\n",
       "749            6    162.0             62  24.3                     0.178   50        1"
      ]
     },
     "execution_count": 6,
     "metadata": {},
     "output_type": "execute_result"
    }
   ],
   "source": [
    "# -------------------------查看bmi的值小于25,但得糖尿病的情况-------------------------\n",
    "print(\"--------查看bmi的值小于25,但得糖尿病的情况-------\")\n",
    "check = pima_data.loc[(pima_data[\"BMI\"] < 25) & (pima_data[\"Outcome\"] == 1)]\n",
    "print(\"总共有%d人\" % check.shape[0])\n",
    "# 总共有7人\n",
    "check.head(8)"
   ]
  },
  {
   "cell_type": "code",
   "execution_count": 7,
   "metadata": {
    "pycharm": {
     "name": "#%%\n"
    }
   },
   "outputs": [
    {
     "name": "stdout",
     "output_type": "stream",
     "text": [
      "Pregnancies                   5.285714\n",
      "Glucose                     157.571429\n",
      "BloodPressure                71.142857\n",
      "BMI                          23.714286\n",
      "DiabetesPedigreeFunction      0.373000\n",
      "Age                          44.285714\n",
      "Outcome                       1.000000\n",
      "dtype: float64\n"
     ]
    },
    {
     "data": {
      "text/plain": [
       "'\\nPregnancies                   5.285714  糖尿病该特征均值4.86,非糖均值:3.29\\nGlucose                     157.571429  糖尿病该特征均值140,非糖均值:110\\nBloodPressure                71.142857  糖尿病该特征均值75,非糖均值:71\\nBMI                          23.714286  糖尿病该特征均值35,非糖均值:30\\nDiabetesPedigreeFunction      0.373000  糖尿病该特征均值0.55,非糖均值:0.42\\nAge                          44.285714  糖尿病该特征均值37,非糖均值:31\\nOutcome                       1.000000  \\ndtype: float64\\n\\nbmi的值小于25,但得糖尿病的人, 明显怀孕次数是比较高的,而且葡萄糖的值也是很高的\\n'"
      ]
     },
     "execution_count": 7,
     "metadata": {},
     "output_type": "execute_result"
    }
   ],
   "source": [
    "print(check.mean(axis=0))\n",
    "\"\"\"\n",
    "Pregnancies                   5.285714  糖尿病该特征均值4.86,非糖均值:3.29\n",
    "Glucose                     157.571429  糖尿病该特征均值140,非糖均值:110\n",
    "BloodPressure                71.142857  糖尿病该特征均值75,非糖均值:71\n",
    "BMI                          23.714286  糖尿病该特征均值35,非糖均值:30\n",
    "DiabetesPedigreeFunction      0.373000  糖尿病该特征均值0.55,非糖均值:0.42\n",
    "Age                          44.285714  糖尿病该特征均值37,非糖均值:31\n",
    "Outcome                       1.000000  \n",
    "dtype: float64\n",
    "\n",
    "bmi的值小于25,但得糖尿病的人, 明显怀孕次数是比较高的,而且葡萄糖的值也是很高的\n",
    "\"\"\"\n",
    "\n"
   ]
  },
  {
   "cell_type": "code",
   "execution_count": 8,
   "metadata": {
    "pycharm": {
     "name": "#%%\n"
    }
   },
   "outputs": [
    {
     "data": {
      "image/png": "[encoded data removed]",
      "text/plain": [
       "<Figure size 432x288 with 1 Axes>"
      ]
     },
     "metadata": {},
     "output_type": "display_data"
    }
   ],
   "source": [
    "# ------------------------------------数据可视化展示------------------------------\n",
    "# -------------draw 1 --------------\n",
    "mp.figure(\"总样本中的BMI频率分布\", facecolor=\"lightgray\")\n",
    "mp.title(\"总样本中的BMI频率分布\")\n",
    "pima_data[\"BMI\"].hist(label=\"BMI-总体样本\")\n",
    "pima_data.loc[pima_data[\"Outcome\"] == 0, \"BMI\"].hist(label=\"没糖尿病人的BMI\")\n",
    "mp.xlabel(\"BMI值\")\n",
    "mp.ylabel(\"人数\")\n",
    "mp.grid()\n",
    "mp.legend()\n",
    "mp.grid(\":\", alpha=0.7)\n",
    "mp.show()\n",
    "\n"
   ]
  },
  {
   "cell_type": "code",
   "execution_count": 9,
   "metadata": {
    "pycharm": {
     "name": "#%%\n"
    }
   },
   "outputs": [
    {
     "data": {
      "image/png": "[encoded data removed]",
      "text/plain": [
       "<Figure size 432x288 with 1 Axes>"
      ]
     },
     "metadata": {},
     "output_type": "display_data"
    }
   ],
   "source": [
    "# -------------draw 2 --------------\n",
    "mp.figure(\"得糖尿病人的BMI频率分布\", facecolor=\"lightgray\")\n",
    "mp.title(\"得糖尿病人的BMI频率分布\")\n",
    "pima_data.loc[pima_data[\"Outcome\"] == 1, \"BMI\"].hist(label=\"得糖尿病人的BMI\")\n",
    "mp.xlabel(\"BMI值\")\n",
    "mp.ylabel(\"人数\")\n",
    "mp.grid()\n",
    "mp.legend()\n",
    "mp.grid(\":\", alpha=0.7)\n",
    "mp.show()"
   ]
  },
  {
   "cell_type": "code",
   "execution_count": 10,
   "metadata": {
    "pycharm": {
     "name": "#%%\n"
    }
   },
   "outputs": [
    {
     "data": {
      "image/png": "[encoded data removed]",
      "text/plain": [
       "<Figure size 432x288 with 1 Axes>"
      ]
     },
     "metadata": {},
     "output_type": "display_data"
    }
   ],
   "source": [
    "# -------------draw 3 --------------\n",
    "# draw heatmap  计算数据：　皮尔逊积矩相关系数　　　各个特征的相关系数\n",
    "cols = [\"Pregnancies\", \"Glucose\", \"BloodPressure\", \"BMI\", \"DiabetesPedigreeFunction\", \"Age\", \"Outcome\"]\n",
    "df_corr = pima_data[cols].corr()\n",
    "\n",
    "#   draw bar  BMI对应各个特征的相关性\n",
    "mp.figure(\"BMI对应各个特征的相关性\", facecolor=\"lightgray\")\n",
    "mp.title(\"BMI对应各个特征的相关性\")\n",
    "df_barplot = df_corr[\"BMI\"].sort_values()[::-1].drop(\"BMI\")\n",
    "sns.barplot(df_barplot.index, df_barplot)\n",
    "mp.gcf().autofmt_xdate()\n",
    "mp.xlabel(\"特征\")\n",
    "mp.ylabel(\"特征相关系数\")\n",
    "mp.show()\n"
   ]
  }
 ],
 "metadata": {
  "kernelspec": {
   "display_name": "Python 3",
   "language": "python",
   "name": "python3"
  },
  "language_info": {
   "codemirror_mode": {
    "name": "ipython",
    "version": 3
   },
   "file_extension": ".py",
   "mimetype": "text/x-python",
   "name": "python",
   "nbconvert_exporter": "python",
   "pygments_lexer": "ipython3",
   "version": "3.6.8"
  },
  "pycharm": {
   "stem_cell": {
    "cell_type": "raw",
    "source": [],
    "metadata": {
     "collapsed": false
    }
   }
  }
 },
 "nbformat": 4,
 "nbformat_minor": 1
}