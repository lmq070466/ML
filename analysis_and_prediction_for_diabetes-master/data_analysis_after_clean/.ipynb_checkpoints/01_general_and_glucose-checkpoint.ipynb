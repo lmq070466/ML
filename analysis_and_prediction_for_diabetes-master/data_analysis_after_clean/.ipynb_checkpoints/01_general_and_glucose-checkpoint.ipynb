{
 "cells": [
  {
   "cell_type": "code",
   "execution_count": 1,
   "metadata": {},
   "outputs": [
    {
     "data": {
      "text/html": [
       "<div>\n",
       "<style scoped>\n",
       "    .dataframe tbody tr th:only-of-type {\n",
       "        vertical-align: middle;\n",
       "    }\n",
       "\n",
       "    .dataframe tbody tr th {\n",
       "        vertical-align: top;\n",
       "    }\n",
       "\n",
       "    .dataframe thead th {\n",
       "        text-align: right;\n",
       "    }\n",
       "</style>\n",
       "<table border=\"1\" class=\"dataframe\">\n",
       "  <thead>\n",
       "    <tr style=\"text-align: right;\">\n",
       "      <th></th>\n",
       "      <th>Pregnancies</th>\n",
       "      <th>Glucose</th>\n",
       "      <th>BloodPressure</th>\n",
       "      <th>BMI</th>\n",
       "      <th>DiabetesPedigreeFunction</th>\n",
       "      <th>Age</th>\n",
       "      <th>Outcome</th>\n",
       "    </tr>\n",
       "  </thead>\n",
       "  <tbody>\n",
       "    <tr>\n",
       "      <td>0</td>\n",
       "      <td>6</td>\n",
       "      <td>148.0</td>\n",
       "      <td>72</td>\n",
       "      <td>33.6</td>\n",
       "      <td>0.627</td>\n",
       "      <td>50</td>\n",
       "      <td>1</td>\n",
       "    </tr>\n",
       "    <tr>\n",
       "      <td>2</td>\n",
       "      <td>8</td>\n",
       "      <td>183.0</td>\n",
       "      <td>64</td>\n",
       "      <td>23.3</td>\n",
       "      <td>0.672</td>\n",
       "      <td>32</td>\n",
       "      <td>1</td>\n",
       "    </tr>\n",
       "    <tr>\n",
       "      <td>4</td>\n",
       "      <td>0</td>\n",
       "      <td>137.0</td>\n",
       "      <td>40</td>\n",
       "      <td>43.1</td>\n",
       "      <td>2.288</td>\n",
       "      <td>33</td>\n",
       "      <td>1</td>\n",
       "    </tr>\n",
       "    <tr>\n",
       "      <td>6</td>\n",
       "      <td>3</td>\n",
       "      <td>78.0</td>\n",
       "      <td>50</td>\n",
       "      <td>31.0</td>\n",
       "      <td>0.248</td>\n",
       "      <td>26</td>\n",
       "      <td>1</td>\n",
       "    </tr>\n",
       "    <tr>\n",
       "      <td>8</td>\n",
       "      <td>2</td>\n",
       "      <td>197.0</td>\n",
       "      <td>70</td>\n",
       "      <td>30.5</td>\n",
       "      <td>0.158</td>\n",
       "      <td>53</td>\n",
       "      <td>1</td>\n",
       "    </tr>\n",
       "  </tbody>\n",
       "</table>\n",
       "</div>"
      ],
      "text/plain": [
       "   Pregnancies  Glucose  BloodPressure   BMI  DiabetesPedigreeFunction  Age  \\\n",
       "0            6    148.0             72  33.6                     0.627   50   \n",
       "2            8    183.0             64  23.3                     0.672   32   \n",
       "4            0    137.0             40  43.1                     2.288   33   \n",
       "6            3     78.0             50  31.0                     0.248   26   \n",
       "8            2    197.0             70  30.5                     0.158   53   \n",
       "\n",
       "   Outcome  \n",
       "0        1  \n",
       "2        1  \n",
       "4        1  \n",
       "6        1  \n",
       "8        1  "
      ]
     },
     "execution_count": 1,
     "metadata": {},
     "output_type": "execute_result"
    }
   ],
   "source": [
    "import pandas as pd\n",
    "import matplotlib.pyplot as mp\n",
    "import seaborn as sns\n",
    "\n",
    "mp.rcParams['font.sans-serif'] = ['SimHei']\n",
    "mp.rcParams['axes.unicode_minus'] = False\n",
    "\n",
    "# ---------------------------------- get data -------------------------------\n",
    "pima_data = pd.read_csv(\"../data/cleaned_pima_data.csv\")\n",
    "\n",
    "# ------------------------------------- 糖尿病人数据集 -------------------------------------\n",
    "diabetes_data = pima_data.loc[pima_data[\"Outcome\"] == 1]\n",
    "diabetes_data.head()"
   ]
  },
  {
   "cell_type": "code",
   "execution_count": 2,
   "metadata": {
    "pycharm": {
     "name": "#%%\n"
    }
   },
   "outputs": [
    {
     "data": {
      "text/plain": [
       "Pregnancies                   4.865672\n",
       "Glucose                     142.319549\n",
       "BloodPressure                75.988806\n",
       "BMI                          35.409701\n",
       "DiabetesPedigreeFunction      0.550500\n",
       "Age                          37.067164\n",
       "Outcome                       1.000000\n",
       "dtype: float64"
      ]
     },
     "execution_count": 2,
     "metadata": {},
     "output_type": "execute_result"
    }
   ],
   "source": [
    "\"\"\"\n",
    "由此可见糖尿病人当中:\n",
    "怀孕平均次数是4.8次,葡萄糖的平均值142,\n",
    "血压平均是76,   BMI平均是35,  家族系数平均是0.55,  年龄平均是37岁\n",
    "\"\"\" \n",
    "diabetes_data.mean(axis=0) # 打印糖尿病人当中,各个特征值的平均值,"
   ]
  },
  {
   "cell_type": "code",
   "execution_count": 3,
   "metadata": {
    "pycharm": {
     "name": "#%%\n"
    }
   },
   "outputs": [
    {
     "data": {
      "text/html": [
       "<div>\n",
       "<style scoped>\n",
       "    .dataframe tbody tr th:only-of-type {\n",
       "        vertical-align: middle;\n",
       "    }\n",
       "\n",
       "    .dataframe tbody tr th {\n",
       "        vertical-align: top;\n",
       "    }\n",
       "\n",
       "    .dataframe thead th {\n",
       "        text-align: right;\n",
       "    }\n",
       "</style>\n",
       "<table border=\"1\" class=\"dataframe\">\n",
       "  <thead>\n",
       "    <tr style=\"text-align: right;\">\n",
       "      <th></th>\n",
       "      <th>Pregnancies</th>\n",
       "      <th>Glucose</th>\n",
       "      <th>BloodPressure</th>\n",
       "      <th>BMI</th>\n",
       "      <th>DiabetesPedigreeFunction</th>\n",
       "      <th>Age</th>\n",
       "      <th>Outcome</th>\n",
       "    </tr>\n",
       "  </thead>\n",
       "  <tbody>\n",
       "    <tr>\n",
       "      <td>1</td>\n",
       "      <td>1</td>\n",
       "      <td>85.0</td>\n",
       "      <td>66</td>\n",
       "      <td>26.6</td>\n",
       "      <td>0.351</td>\n",
       "      <td>31</td>\n",
       "      <td>0</td>\n",
       "    </tr>\n",
       "    <tr>\n",
       "      <td>3</td>\n",
       "      <td>1</td>\n",
       "      <td>89.0</td>\n",
       "      <td>66</td>\n",
       "      <td>28.1</td>\n",
       "      <td>0.167</td>\n",
       "      <td>21</td>\n",
       "      <td>0</td>\n",
       "    </tr>\n",
       "    <tr>\n",
       "      <td>5</td>\n",
       "      <td>5</td>\n",
       "      <td>116.0</td>\n",
       "      <td>74</td>\n",
       "      <td>25.6</td>\n",
       "      <td>0.201</td>\n",
       "      <td>30</td>\n",
       "      <td>0</td>\n",
       "    </tr>\n",
       "    <tr>\n",
       "      <td>7</td>\n",
       "      <td>10</td>\n",
       "      <td>115.0</td>\n",
       "      <td>72</td>\n",
       "      <td>35.3</td>\n",
       "      <td>0.134</td>\n",
       "      <td>29</td>\n",
       "      <td>0</td>\n",
       "    </tr>\n",
       "    <tr>\n",
       "      <td>10</td>\n",
       "      <td>4</td>\n",
       "      <td>110.0</td>\n",
       "      <td>92</td>\n",
       "      <td>37.6</td>\n",
       "      <td>0.191</td>\n",
       "      <td>30</td>\n",
       "      <td>0</td>\n",
       "    </tr>\n",
       "  </tbody>\n",
       "</table>\n",
       "</div>"
      ],
      "text/plain": [
       "    Pregnancies  Glucose  BloodPressure   BMI  DiabetesPedigreeFunction  Age  \\\n",
       "1             1     85.0             66  26.6                     0.351   31   \n",
       "3             1     89.0             66  28.1                     0.167   21   \n",
       "5             5    116.0             74  25.6                     0.201   30   \n",
       "7            10    115.0             72  35.3                     0.134   29   \n",
       "10            4    110.0             92  37.6                     0.191   30   \n",
       "\n",
       "    Outcome  \n",
       "1         0  \n",
       "3         0  \n",
       "5         0  \n",
       "7         0  \n",
       "10        0  "
      ]
     },
     "execution_count": 3,
     "metadata": {},
     "output_type": "execute_result"
    }
   ],
   "source": [
    "# ------------------------------------- 非糖尿病人数据集 -------------------------------------\n",
    "\n",
    "no_diabetes_data = pima_data.loc[pima_data[\"Outcome\"] == 0]\n",
    "no_diabetes_data.head()\n"
   ]
  },
  {
   "cell_type": "code",
   "execution_count": 4,
   "metadata": {
    "pycharm": {
     "name": "#%%\n"
    }
   },
   "outputs": [
    {
     "data": {
      "text/plain": [
       "Pregnancies                   3.298000\n",
       "Glucose                     110.643863\n",
       "BloodPressure                71.114000\n",
       "BMI                          30.960000\n",
       "DiabetesPedigreeFunction      0.429734\n",
       "Age                          31.190000\n",
       "Outcome                       0.000000\n",
       "dtype: float64"
      ]
     },
     "execution_count": 4,
     "metadata": {},
     "output_type": "execute_result"
    }
   ],
   "source": [
    "# 打印非糖尿病人当中,各个特征值的平均值,\n",
    "# 由此可见:非糖尿病人当中:怀孕平均次数是3.3次,葡萄糖的平均值110,\n",
    "# 血压平均是71,BMI平均是30,家族系数平均是0.42,年龄平均是31岁\n",
    "no_diabetes_data.mean(axis=0)"
   ]
  },
  {
   "cell_type": "code",
   "execution_count": 5,
   "metadata": {
    "pycharm": {
     "name": "#%%\n"
    }
   },
   "outputs": [
    {
     "data": {
      "text/html": [
       "<div>\n",
       "<style scoped>\n",
       "    .dataframe tbody tr th:only-of-type {\n",
       "        vertical-align: middle;\n",
       "    }\n",
       "\n",
       "    .dataframe tbody tr th {\n",
       "        vertical-align: top;\n",
       "    }\n",
       "\n",
       "    .dataframe thead th {\n",
       "        text-align: right;\n",
       "    }\n",
       "</style>\n",
       "<table border=\"1\" class=\"dataframe\">\n",
       "  <thead>\n",
       "    <tr style=\"text-align: right;\">\n",
       "      <th></th>\n",
       "      <th>Pregnancies</th>\n",
       "      <th>Glucose</th>\n",
       "      <th>BloodPressure</th>\n",
       "      <th>BMI</th>\n",
       "      <th>DiabetesPedigreeFunction</th>\n",
       "      <th>Age</th>\n",
       "      <th>Outcome</th>\n",
       "    </tr>\n",
       "  </thead>\n",
       "  <tbody>\n",
       "    <tr>\n",
       "      <td>非糖尿病</td>\n",
       "      <td>3.298000</td>\n",
       "      <td>110.643863</td>\n",
       "      <td>71.114000</td>\n",
       "      <td>30.960000</td>\n",
       "      <td>0.429734</td>\n",
       "      <td>31.190000</td>\n",
       "      <td>0.0</td>\n",
       "    </tr>\n",
       "    <tr>\n",
       "      <td>糖尿病</td>\n",
       "      <td>4.865672</td>\n",
       "      <td>142.319549</td>\n",
       "      <td>75.988806</td>\n",
       "      <td>35.409701</td>\n",
       "      <td>0.550500</td>\n",
       "      <td>37.067164</td>\n",
       "      <td>1.0</td>\n",
       "    </tr>\n",
       "  </tbody>\n",
       "</table>\n",
       "</div>"
      ],
      "text/plain": [
       "      Pregnancies     Glucose  BloodPressure        BMI  \\\n",
       "非糖尿病     3.298000  110.643863      71.114000  30.960000   \n",
       "糖尿病      4.865672  142.319549      75.988806  35.409701   \n",
       "\n",
       "      DiabetesPedigreeFunction        Age  Outcome  \n",
       "非糖尿病                  0.429734  31.190000      0.0  \n",
       "糖尿病                   0.550500  37.067164      1.0  "
      ]
     },
     "execution_count": 5,
     "metadata": {},
     "output_type": "execute_result"
    }
   ],
   "source": [
    "# ------------------------------------- 糖和非糖的各个特征均值对比 -------------------------------------\n",
    "\"\"\"\n",
    "对比糖尿病和非糖尿病人士, 他们明显的差别是,葡萄糖的差值比较高,患糖尿病的人比不患糖尿病的人高出32的值,\n",
    "其次是年龄和BMI 相对来说,年轻的人比较少患糖尿病, 身体肥胖的人比较容易得糖尿病\n",
    "再其次是血压\n",
    "\"\"\"\n",
    "no_d = no_diabetes_data.mean(axis=0)\n",
    "d = diabetes_data.mean(axis=0)\n",
    "cols = no_d.index\n",
    "\n",
    "df_no_d = pd.DataFrame([no_d], columns=cols, index=[\"非糖尿病\"])\n",
    "df_d = pd.DataFrame([d], columns=cols, index=[\"糖尿病\"])\n",
    "df = df_no_d.append(df_d)\n",
    "df"
   ]
  },
  {
   "cell_type": "code",
   "execution_count": 6,
   "metadata": {
    "pycharm": {
     "name": "#%%\n"
    }
   },
   "outputs": [
    {
     "data": {
      "text/plain": [
       "count    768.000000\n",
       "mean     121.697358\n",
       "std       30.462008\n",
       "min       44.000000\n",
       "25%       99.750000\n",
       "50%      117.000000\n",
       "75%      141.000000\n",
       "max      199.000000\n",
       "range    155.000000\n",
       "var        0.250310\n",
       "dis       41.250000\n",
       "Name: Glucose, dtype: float64"
      ]
     },
     "execution_count": 6,
     "metadata": {},
     "output_type": "execute_result"
    }
   ],
   "source": [
    "# ------------------------葡萄糖-特征值分析------------------------------------\n",
    "\n",
    "# ------------计算数据------------\n",
    "statistics = pima_data[\"Glucose\"].describe()\n",
    "\n",
    "statistics['range'] = statistics['max'] - statistics['min']  # 极差\n",
    "statistics['var'] = statistics['std'] / statistics['mean']  # 方差\n",
    "statistics['dis'] = statistics['75%'] - statistics['25%']  # 四分距\n",
    "statistics\n",
    "\n"
   ]
  },
  {
   "cell_type": "code",
   "execution_count": 7,
   "metadata": {
    "pycharm": {
     "name": "#%%\n"
    }
   },
   "outputs": [
    {
     "name": "stdout",
     "output_type": "stream",
     "text": [
      "-------查看葡萄糖值高,但不患糖尿病的人-------\n",
      "总共有4人\n"
     ]
    },
    {
     "data": {
      "text/html": [
       "<div>\n",
       "<style scoped>\n",
       "    .dataframe tbody tr th:only-of-type {\n",
       "        vertical-align: middle;\n",
       "    }\n",
       "\n",
       "    .dataframe tbody tr th {\n",
       "        vertical-align: top;\n",
       "    }\n",
       "\n",
       "    .dataframe thead th {\n",
       "        text-align: right;\n",
       "    }\n",
       "</style>\n",
       "<table border=\"1\" class=\"dataframe\">\n",
       "  <thead>\n",
       "    <tr style=\"text-align: right;\">\n",
       "      <th></th>\n",
       "      <th>Pregnancies</th>\n",
       "      <th>Glucose</th>\n",
       "      <th>BloodPressure</th>\n",
       "      <th>BMI</th>\n",
       "      <th>DiabetesPedigreeFunction</th>\n",
       "      <th>Age</th>\n",
       "      <th>Outcome</th>\n",
       "    </tr>\n",
       "  </thead>\n",
       "  <tbody>\n",
       "    <tr>\n",
       "      <td>228</td>\n",
       "      <td>4</td>\n",
       "      <td>197.0</td>\n",
       "      <td>70</td>\n",
       "      <td>36.7</td>\n",
       "      <td>2.329</td>\n",
       "      <td>31</td>\n",
       "      <td>0</td>\n",
       "    </tr>\n",
       "    <tr>\n",
       "      <td>258</td>\n",
       "      <td>1</td>\n",
       "      <td>193.0</td>\n",
       "      <td>50</td>\n",
       "      <td>25.9</td>\n",
       "      <td>0.655</td>\n",
       "      <td>24</td>\n",
       "      <td>0</td>\n",
       "    </tr>\n",
       "    <tr>\n",
       "      <td>260</td>\n",
       "      <td>3</td>\n",
       "      <td>191.0</td>\n",
       "      <td>68</td>\n",
       "      <td>30.9</td>\n",
       "      <td>0.299</td>\n",
       "      <td>34</td>\n",
       "      <td>0</td>\n",
       "    </tr>\n",
       "    <tr>\n",
       "      <td>489</td>\n",
       "      <td>8</td>\n",
       "      <td>194.0</td>\n",
       "      <td>80</td>\n",
       "      <td>26.1</td>\n",
       "      <td>0.551</td>\n",
       "      <td>67</td>\n",
       "      <td>0</td>\n",
       "    </tr>\n",
       "  </tbody>\n",
       "</table>\n",
       "</div>"
      ],
      "text/plain": [
       "     Pregnancies  Glucose  BloodPressure   BMI  DiabetesPedigreeFunction  Age  \\\n",
       "228            4    197.0             70  36.7                     2.329   31   \n",
       "258            1    193.0             50  25.9                     0.655   24   \n",
       "260            3    191.0             68  30.9                     0.299   34   \n",
       "489            8    194.0             80  26.1                     0.551   67   \n",
       "\n",
       "     Outcome  \n",
       "228        0  \n",
       "258        0  \n",
       "260        0  \n",
       "489        0  "
      ]
     },
     "execution_count": 7,
     "metadata": {},
     "output_type": "execute_result"
    }
   ],
   "source": [
    "# -------查看葡萄糖值高,但不患糖尿病的人-------\n",
    "check = pima_data.loc[(pima_data[\"Outcome\"] == 0) & (pima_data[\"Glucose\"] > 190)]\n",
    "print(\"-------查看葡萄糖值高,但不患糖尿病的人-------\")\n",
    "print(\"总共有%d人\" % check.shape[0])\n",
    "# 总共有4人\n",
    "\n",
    "check.head()"
   ]
  },
  {
   "cell_type": "code",
   "execution_count": 8,
   "metadata": {
    "pycharm": {
     "name": "#%%\n"
    }
   },
   "outputs": [
    {
     "data": {
      "text/plain": [
       "Pregnancies                   4.0000\n",
       "Glucose                     193.7500\n",
       "BloodPressure                67.0000\n",
       "BMI                          29.9000\n",
       "DiabetesPedigreeFunction      0.9585\n",
       "Age                          39.0000\n",
       "Outcome                       0.0000\n",
       "dtype: float64"
      ]
     },
     "execution_count": 8,
     "metadata": {},
     "output_type": "execute_result"
    }
   ],
   "source": [
    "\"\"\"\n",
    "由此可见: 葡萄糖值高,但不患糖尿病的人当中,他们的血压和BMI比较低(比不患糖尿病人的均值还低)\n",
    "\n",
    "葡萄糖值高,但不患糖尿病人, 跟身体瘦和血压低有很大的关系,\n",
    "葡萄糖值高又不想得糖尿病人的,可以通过减肥和降血压来预防糖尿病\n",
    "\n",
    "葡萄糖值高,和家族遗传有很大的关系高达:0.9585\n",
    "葡萄糖值高,但不患糖尿病的人,跟年轻是有一些关系,4人中,有3人的年龄是24,31,34是非常年轻的\n",
    "\"\"\"\n",
    "check.mean(axis=0)"
   ]
  },
  {
   "cell_type": "code",
   "execution_count": 9,
   "metadata": {
    "pycharm": {
     "name": "#%%\n"
    }
   },
   "outputs": [
    {
     "name": "stdout",
     "output_type": "stream",
     "text": [
      "-------查看葡萄糖值低,但患糖尿病的人-------\n",
      "总共有14人\n"
     ]
    },
    {
     "data": {
      "text/html": [
       "<div>\n",
       "<style scoped>\n",
       "    .dataframe tbody tr th:only-of-type {\n",
       "        vertical-align: middle;\n",
       "    }\n",
       "\n",
       "    .dataframe tbody tr th {\n",
       "        vertical-align: top;\n",
       "    }\n",
       "\n",
       "    .dataframe thead th {\n",
       "        text-align: right;\n",
       "    }\n",
       "</style>\n",
       "<table border=\"1\" class=\"dataframe\">\n",
       "  <thead>\n",
       "    <tr style=\"text-align: right;\">\n",
       "      <th></th>\n",
       "      <th>Pregnancies</th>\n",
       "      <th>Glucose</th>\n",
       "      <th>BloodPressure</th>\n",
       "      <th>BMI</th>\n",
       "      <th>DiabetesPedigreeFunction</th>\n",
       "      <th>Age</th>\n",
       "      <th>Outcome</th>\n",
       "    </tr>\n",
       "  </thead>\n",
       "  <tbody>\n",
       "    <tr>\n",
       "      <td>6</td>\n",
       "      <td>3</td>\n",
       "      <td>78.0</td>\n",
       "      <td>50</td>\n",
       "      <td>31.0</td>\n",
       "      <td>0.248</td>\n",
       "      <td>26</td>\n",
       "      <td>1</td>\n",
       "    </tr>\n",
       "    <tr>\n",
       "      <td>38</td>\n",
       "      <td>2</td>\n",
       "      <td>90.0</td>\n",
       "      <td>68</td>\n",
       "      <td>38.2</td>\n",
       "      <td>0.503</td>\n",
       "      <td>27</td>\n",
       "      <td>1</td>\n",
       "    </tr>\n",
       "    <tr>\n",
       "      <td>109</td>\n",
       "      <td>0</td>\n",
       "      <td>95.0</td>\n",
       "      <td>85</td>\n",
       "      <td>37.4</td>\n",
       "      <td>0.247</td>\n",
       "      <td>24</td>\n",
       "      <td>1</td>\n",
       "    </tr>\n",
       "    <tr>\n",
       "      <td>125</td>\n",
       "      <td>1</td>\n",
       "      <td>88.0</td>\n",
       "      <td>80</td>\n",
       "      <td>55.0</td>\n",
       "      <td>0.496</td>\n",
       "      <td>26</td>\n",
       "      <td>1</td>\n",
       "    </tr>\n",
       "    <tr>\n",
       "      <td>218</td>\n",
       "      <td>5</td>\n",
       "      <td>85.0</td>\n",
       "      <td>74</td>\n",
       "      <td>29.0</td>\n",
       "      <td>1.224</td>\n",
       "      <td>32</td>\n",
       "      <td>1</td>\n",
       "    </tr>\n",
       "  </tbody>\n",
       "</table>\n",
       "</div>"
      ],
      "text/plain": [
       "     Pregnancies  Glucose  BloodPressure   BMI  DiabetesPedigreeFunction  Age  \\\n",
       "6              3     78.0             50  31.0                     0.248   26   \n",
       "38             2     90.0             68  38.2                     0.503   27   \n",
       "109            0     95.0             85  37.4                     0.247   24   \n",
       "125            1     88.0             80  55.0                     0.496   26   \n",
       "218            5     85.0             74  29.0                     1.224   32   \n",
       "\n",
       "     Outcome  \n",
       "6          1  \n",
       "38         1  \n",
       "109        1  \n",
       "125        1  \n",
       "218        1  "
      ]
     },
     "execution_count": 9,
     "metadata": {},
     "output_type": "execute_result"
    }
   ],
   "source": [
    "# -------查看葡萄糖值低,但患糖尿病的人-------\n",
    "check = pima_data.loc[(pima_data[\"Outcome\"] == 1) & (pima_data[\"Glucose\"] < 100)]\n",
    "print(\"-------查看葡萄糖值低,但患糖尿病的人-------\")\n",
    "print(\"总共有%d人\" % check.shape[0])\n",
    "# 总共有14人\n",
    "\n",
    "check.head()"
   ]
  },
  {
   "cell_type": "code",
   "execution_count": 10,
   "metadata": {
    "pycharm": {
     "name": "#%%\n"
    }
   },
   "outputs": [
    {
     "data": {
      "text/plain": [
       "Pregnancies                  4.785714\n",
       "Glucose                     89.928571\n",
       "BloodPressure               72.857143\n",
       "BMI                         35.607143\n",
       "DiabetesPedigreeFunction     0.598214\n",
       "Age                         34.928571\n",
       "Outcome                      1.000000\n",
       "dtype: float64"
      ]
     },
     "execution_count": 10,
     "metadata": {},
     "output_type": "execute_result"
    }
   ],
   "source": [
    "\"\"\"\n",
    "由此可见在葡萄糖值低的人士,但得病的人当中, \n",
    "患糖尿病的人,其中一个是32岁较年轻,血压和BMI都比较低,但是它的家族遗传系数很高很高,由此可见是遗传导致的\n",
    "总体来说,这些人的的家族遗传,肥胖,怀孕次数都有挺大的关系,此三个均值都超出了患此病人的均值\n",
    "\"\"\"\n",
    "check.mean(axis=0)"
   ]
  },
  {
   "cell_type": "code",
   "execution_count": 11,
   "metadata": {
    "pycharm": {
     "name": "#%%\n"
    }
   },
   "outputs": [
    {
     "data": {
      "image/png": "[encoded data removed]",
      "text/plain": [
       "<Figure size 432x288 with 1 Axes>"
      ]
     },
     "metadata": {},
     "output_type": "display_data"
    }
   ],
   "source": [
    "# ------------------------------------数据可视化展示------------------------------\n",
    "# 由此可见,不患糖尿病的人士的葡萄糖呈现正态分布,高峰是100-120,超过120和低于100的人数逐渐减少\n",
    "mp.figure(\"总样本中的葡萄糖频率分布\", facecolor=\"lightgray\")\n",
    "mp.title(\"总样本中的葡萄糖频率分布\")\n",
    "pima_data[\"Glucose\"].hist(label=\"葡萄糖值-总体样本\")\n",
    "no_diabetes_data[\"Glucose\"].hist(label=\"没糖尿病人的葡萄糖\")\n",
    "mp.xlabel(\"葡萄糖值\")\n",
    "mp.ylabel(\"人数\")\n",
    "mp.grid()\n",
    "mp.legend()\n",
    "mp.grid(\":\", alpha=0.7)\n",
    "mp.show()"
   ]
  },
  {
   "cell_type": "code",
   "execution_count": 12,
   "metadata": {
    "pycharm": {
     "name": "#%%\n"
    }
   },
   "outputs": [
    {
     "data": {
      "image/png": "[encoded data removed]",
      "text/plain": [
       "<Figure size 432x288 with 1 Axes>"
      ]
     },
     "metadata": {},
     "output_type": "display_data"
    }
   ],
   "source": [
    "# 由此可见,患糖尿病人士的葡萄糖分布值, 当中超过7成的人是在120-200之间的\n",
    "mp.figure(\"总样本中--患糖尿病人士的---葡萄糖频率分布\", facecolor=\"lightgray\")\n",
    "mp.title(\"总样本中--患糖尿病人士的---葡萄糖频率分布\")\n",
    "diabetes_data[\"Glucose\"].hist(label=\"得糖尿病人的葡萄糖\")\n",
    "mp.xlabel(\"葡萄糖值\")\n",
    "mp.ylabel(\"人数\")\n",
    "mp.legend()\n",
    "mp.show()"
   ]
  },
  {
   "cell_type": "code",
   "execution_count": 13,
   "metadata": {
    "pycharm": {
     "name": "#%%\n"
    }
   },
   "outputs": [
    {
     "data": {
      "image/png": "[encoded data removed]",
      "text/plain": [
       "<Figure size 432x288 with 2 Axes>"
      ]
     },
     "metadata": {},
     "output_type": "display_data"
    }
   ],
   "source": [
    "# draw heatmap  计算数据：　皮尔逊积矩相关系数　　　各个特征的相关系数\n",
    "cols = [\"Pregnancies\", \"Glucose\", \"BloodPressure\", \"BMI\", \"DiabetesPedigreeFunction\", \"Age\", \"Outcome\"]\n",
    "chinese_features = [\"怀孕次数\", \"葡萄糖\", \"血压\", \"BMI\", \"家族系数\", \"年龄\", \"标签\"]\n",
    "df_corr = pima_data[cols].corr()\n",
    "\n",
    "mp.rcParams['font.sans-serif'] = ['SimHei']\n",
    "mp.rcParams['axes.unicode_minus'] = False\n",
    "mp.figure(\"各个特征的相关系数\", facecolor=\"lightgray\")\n",
    "mp.title(\"各个特征的相关系数\")\n",
    "sns.heatmap(df_corr, cbar=True, annot=True, square=True, fmt='.2f', annot_kws={'size': 15},\n",
    "            yticklabels=chinese_features, xticklabels=chinese_features)\n",
    "mp.tight_layout()\n",
    "mp.xlim(0, 7)\n",
    "mp.ylim(0, 7)\n",
    "mp.show()"
   ]
  },
  {
   "cell_type": "code",
   "execution_count": 14,
   "metadata": {
    "pycharm": {
     "name": "#%%\n"
    }
   },
   "outputs": [
    {
     "data": {
      "text/html": [
       "<div>\n",
       "<style scoped>\n",
       "    .dataframe tbody tr th:only-of-type {\n",
       "        vertical-align: middle;\n",
       "    }\n",
       "\n",
       "    .dataframe tbody tr th {\n",
       "        vertical-align: top;\n",
       "    }\n",
       "\n",
       "    .dataframe thead th {\n",
       "        text-align: right;\n",
       "    }\n",
       "</style>\n",
       "<table border=\"1\" class=\"dataframe\">\n",
       "  <thead>\n",
       "    <tr style=\"text-align: right;\">\n",
       "      <th></th>\n",
       "      <th>Pregnancies</th>\n",
       "      <th>Glucose</th>\n",
       "      <th>BloodPressure</th>\n",
       "      <th>BMI</th>\n",
       "      <th>DiabetesPedigreeFunction</th>\n",
       "      <th>Age</th>\n",
       "      <th>Outcome</th>\n",
       "    </tr>\n",
       "  </thead>\n",
       "  <tbody>\n",
       "    <tr>\n",
       "      <td>Pregnancies</td>\n",
       "      <td>1.000000</td>\n",
       "      <td>0.129867</td>\n",
       "      <td>0.196749</td>\n",
       "      <td>0.020518</td>\n",
       "      <td>-0.033523</td>\n",
       "      <td>0.544341</td>\n",
       "      <td>0.221898</td>\n",
       "    </tr>\n",
       "    <tr>\n",
       "      <td>Glucose</td>\n",
       "      <td>0.129867</td>\n",
       "      <td>1.000000</td>\n",
       "      <td>0.216212</td>\n",
       "      <td>0.223715</td>\n",
       "      <td>0.138125</td>\n",
       "      <td>0.268566</td>\n",
       "      <td>0.495954</td>\n",
       "    </tr>\n",
       "    <tr>\n",
       "      <td>BloodPressure</td>\n",
       "      <td>0.196749</td>\n",
       "      <td>0.216212</td>\n",
       "      <td>1.000000</td>\n",
       "      <td>0.298484</td>\n",
       "      <td>-0.011765</td>\n",
       "      <td>0.311047</td>\n",
       "      <td>0.192865</td>\n",
       "    </tr>\n",
       "    <tr>\n",
       "      <td>BMI</td>\n",
       "      <td>0.020518</td>\n",
       "      <td>0.223715</td>\n",
       "      <td>0.298484</td>\n",
       "      <td>1.000000</td>\n",
       "      <td>0.150809</td>\n",
       "      <td>0.019305</td>\n",
       "      <td>0.306216</td>\n",
       "    </tr>\n",
       "    <tr>\n",
       "      <td>DiabetesPedigreeFunction</td>\n",
       "      <td>-0.033523</td>\n",
       "      <td>0.138125</td>\n",
       "      <td>-0.011765</td>\n",
       "      <td>0.150809</td>\n",
       "      <td>1.000000</td>\n",
       "      <td>0.033561</td>\n",
       "      <td>0.173844</td>\n",
       "    </tr>\n",
       "    <tr>\n",
       "      <td>Age</td>\n",
       "      <td>0.544341</td>\n",
       "      <td>0.268566</td>\n",
       "      <td>0.311047</td>\n",
       "      <td>0.019305</td>\n",
       "      <td>0.033561</td>\n",
       "      <td>1.000000</td>\n",
       "      <td>0.238356</td>\n",
       "    </tr>\n",
       "    <tr>\n",
       "      <td>Outcome</td>\n",
       "      <td>0.221898</td>\n",
       "      <td>0.495954</td>\n",
       "      <td>0.192865</td>\n",
       "      <td>0.306216</td>\n",
       "      <td>0.173844</td>\n",
       "      <td>0.238356</td>\n",
       "      <td>1.000000</td>\n",
       "    </tr>\n",
       "  </tbody>\n",
       "</table>\n",
       "</div>"
      ],
      "text/plain": [
       "                          Pregnancies   Glucose  BloodPressure       BMI  \\\n",
       "Pregnancies                  1.000000  0.129867       0.196749  0.020518   \n",
       "Glucose                      0.129867  1.000000       0.216212  0.223715   \n",
       "BloodPressure                0.196749  0.216212       1.000000  0.298484   \n",
       "BMI                          0.020518  0.223715       0.298484  1.000000   \n",
       "DiabetesPedigreeFunction    -0.033523  0.138125      -0.011765  0.150809   \n",
       "Age                          0.544341  0.268566       0.311047  0.019305   \n",
       "Outcome                      0.221898  0.495954       0.192865  0.306216   \n",
       "\n",
       "                          DiabetesPedigreeFunction       Age   Outcome  \n",
       "Pregnancies                              -0.033523  0.544341  0.221898  \n",
       "Glucose                                   0.138125  0.268566  0.495954  \n",
       "BloodPressure                            -0.011765  0.311047  0.192865  \n",
       "BMI                                       0.150809  0.019305  0.306216  \n",
       "DiabetesPedigreeFunction                  1.000000  0.033561  0.173844  \n",
       "Age                                       0.033561  1.000000  0.238356  \n",
       "Outcome                                   0.173844  0.238356  1.000000  "
      ]
     },
     "execution_count": 14,
     "metadata": {},
     "output_type": "execute_result"
    }
   ],
   "source": [
    "df_corr\n"
   ]
  }
 ],
 "metadata": {
  "kernelspec": {
   "display_name": "Python 3",
   "language": "python",
   "name": "python3"
  },
  "language_info": {
   "codemirror_mode": {
    "name": "ipython",
    "version": 3
   },
   "file_extension": ".py",
   "mimetype": "text/x-python",
   "name": "python",
   "nbconvert_exporter": "python",
   "pygments_lexer": "ipython3",
   "version": "3.6.8"
  },
  "pycharm": {
   "stem_cell": {
    "cell_type": "raw",
    "metadata": {
     "collapsed": false
    },
    "source": []
   }
  }
 },
 "nbformat": 4,
 "nbformat_minor": 1
}
