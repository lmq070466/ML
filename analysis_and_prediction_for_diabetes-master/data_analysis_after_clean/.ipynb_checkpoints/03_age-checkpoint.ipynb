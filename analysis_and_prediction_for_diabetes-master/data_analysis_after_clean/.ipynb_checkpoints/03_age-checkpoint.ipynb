{
 "cells": [
  {
   "cell_type": "code",
   "execution_count": 1,
   "metadata": {},
   "outputs": [
    {
     "name": "stdout",
     "output_type": "stream",
     "text": [
      "count    768.000000\n",
      "mean      33.240885\n",
      "std       11.760232\n",
      "min       21.000000\n",
      "25%       24.000000\n",
      "50%       29.000000\n",
      "75%       41.000000\n",
      "max       81.000000\n",
      "range     60.000000\n",
      "var        0.353788\n",
      "dis       17.000000\n",
      "Name: Age, dtype: float64\n"
     ]
    }
   ],
   "source": [
    "\"\"\"\n",
    "清洗数据后------数据分析---age 年龄 特征分析\n",
    "\"\"\"\n",
    "import pandas as pd\n",
    "import matplotlib.pyplot as mp\n",
    "import seaborn as sns\n",
    "\n",
    "pd.set_option('display.max_columns', 1000)\n",
    "pd.set_option('display.width', 1000)\n",
    "pd.set_option('display.max_colwidth', 1000)\n",
    "\n",
    "mp.rcParams['font.sans-serif'] = ['SimHei']\n",
    "mp.rcParams['axes.unicode_minus'] = False\n",
    "\"\"\"\n",
    "参考\n",
    "\n",
    "      Pregnancies     Glucose  BloodPressure        BMI  DiabetesPedigreeFunction        Age  Outcome\n",
    "非糖尿病     3.298000  110.643863      71.114000  30.960000                  0.429734  31.190000      0.0\n",
    "糖尿病      4.865672  142.319549      75.988806  35.409701                  0.550500  37.067164      1.0\n",
    "\"\"\"\n",
    "\n",
    "# ---------------------------------- get data -------------------------------\n",
    "pima_data = pd.read_csv(\"../data/cleaned_pima_data.csv\")\n",
    "\n",
    "# ------------------------age-特征值分析------------------------------------\n",
    "\n",
    "# ------------计算数据------------\n",
    "statistics = pima_data[\"Age\"].describe()\n",
    "\n",
    "statistics['range'] = statistics['max'] - statistics['min']  # 极差\n",
    "statistics['var'] = statistics['std'] / statistics['mean']  # 方差\n",
    "statistics['dis'] = statistics['75%'] - statistics['25%']  # 四分距\n",
    "print(statistics)\n",
    "# 年龄最少是21,最大是81,平均33.24岁\n"
   ]
  },
  {
   "cell_type": "code",
   "execution_count": 2,
   "metadata": {
    "pycharm": {
     "name": "#%%\n"
    }
   },
   "outputs": [
    {
     "name": "stdout",
     "output_type": "stream",
     "text": [
      "--------查看age的值小于25,但得糖尿病的情况-------\n",
      "总共有31人\n"
     ]
    },
    {
     "data": {
      "text/html": [
       "<div>\n",
       "<style scoped>\n",
       "    .dataframe tbody tr th:only-of-type {\n",
       "        vertical-align: middle;\n",
       "    }\n",
       "\n",
       "    .dataframe tbody tr th {\n",
       "        vertical-align: top;\n",
       "    }\n",
       "\n",
       "    .dataframe thead th {\n",
       "        text-align: right;\n",
       "    }\n",
       "</style>\n",
       "<table border=\"1\" class=\"dataframe\">\n",
       "  <thead>\n",
       "    <tr style=\"text-align: right;\">\n",
       "      <th></th>\n",
       "      <th>Pregnancies</th>\n",
       "      <th>Glucose</th>\n",
       "      <th>BloodPressure</th>\n",
       "      <th>BMI</th>\n",
       "      <th>DiabetesPedigreeFunction</th>\n",
       "      <th>Age</th>\n",
       "      <th>Outcome</th>\n",
       "    </tr>\n",
       "  </thead>\n",
       "  <tbody>\n",
       "    <tr>\n",
       "      <td>109</td>\n",
       "      <td>0</td>\n",
       "      <td>95.0</td>\n",
       "      <td>85</td>\n",
       "      <td>37.4</td>\n",
       "      <td>0.247</td>\n",
       "      <td>24</td>\n",
       "      <td>1</td>\n",
       "    </tr>\n",
       "    <tr>\n",
       "      <td>110</td>\n",
       "      <td>3</td>\n",
       "      <td>171.0</td>\n",
       "      <td>72</td>\n",
       "      <td>33.3</td>\n",
       "      <td>0.199</td>\n",
       "      <td>24</td>\n",
       "      <td>1</td>\n",
       "    </tr>\n",
       "    <tr>\n",
       "      <td>124</td>\n",
       "      <td>0</td>\n",
       "      <td>113.0</td>\n",
       "      <td>76</td>\n",
       "      <td>33.3</td>\n",
       "      <td>0.278</td>\n",
       "      <td>23</td>\n",
       "      <td>1</td>\n",
       "    </tr>\n",
       "    <tr>\n",
       "      <td>197</td>\n",
       "      <td>3</td>\n",
       "      <td>107.0</td>\n",
       "      <td>62</td>\n",
       "      <td>22.9</td>\n",
       "      <td>0.678</td>\n",
       "      <td>23</td>\n",
       "      <td>1</td>\n",
       "    </tr>\n",
       "    <tr>\n",
       "      <td>213</td>\n",
       "      <td>0</td>\n",
       "      <td>140.0</td>\n",
       "      <td>65</td>\n",
       "      <td>42.6</td>\n",
       "      <td>0.431</td>\n",
       "      <td>24</td>\n",
       "      <td>1</td>\n",
       "    </tr>\n",
       "    <tr>\n",
       "      <td>220</td>\n",
       "      <td>0</td>\n",
       "      <td>177.0</td>\n",
       "      <td>60</td>\n",
       "      <td>34.6</td>\n",
       "      <td>1.072</td>\n",
       "      <td>21</td>\n",
       "      <td>1</td>\n",
       "    </tr>\n",
       "    <tr>\n",
       "      <td>227</td>\n",
       "      <td>3</td>\n",
       "      <td>162.0</td>\n",
       "      <td>52</td>\n",
       "      <td>37.2</td>\n",
       "      <td>0.652</td>\n",
       "      <td>24</td>\n",
       "      <td>1</td>\n",
       "    </tr>\n",
       "    <tr>\n",
       "      <td>230</td>\n",
       "      <td>4</td>\n",
       "      <td>142.0</td>\n",
       "      <td>86</td>\n",
       "      <td>44.0</td>\n",
       "      <td>0.645</td>\n",
       "      <td>22</td>\n",
       "      <td>1</td>\n",
       "    </tr>\n",
       "  </tbody>\n",
       "</table>\n",
       "</div>"
      ],
      "text/plain": [
       "     Pregnancies  Glucose  BloodPressure   BMI  DiabetesPedigreeFunction  Age  Outcome\n",
       "109            0     95.0             85  37.4                     0.247   24        1\n",
       "110            3    171.0             72  33.3                     0.199   24        1\n",
       "124            0    113.0             76  33.3                     0.278   23        1\n",
       "197            3    107.0             62  22.9                     0.678   23        1\n",
       "213            0    140.0             65  42.6                     0.431   24        1\n",
       "220            0    177.0             60  34.6                     1.072   21        1\n",
       "227            3    162.0             52  37.2                     0.652   24        1\n",
       "230            4    142.0             86  44.0                     0.645   22        1"
      ]
     },
     "execution_count": 2,
     "metadata": {},
     "output_type": "execute_result"
    }
   ],
   "source": [
    "# -------------------------查看age的值小于25,但得糖尿病的情况-------------------------\n",
    "print(\"--------查看age的值小于25,但得糖尿病的情况-------\")\n",
    "check = pima_data.loc[(pima_data[\"Age\"] < 25) & (pima_data[\"Outcome\"] == 1)]\n",
    "print(\"总共有%d人\" % check.shape[0])\n",
    "# 总共有31人\n",
    "check.head(8)\n",
    "# 她们的bmi值都偏高,葡萄糖值也偏高"
   ]
  },
  {
   "cell_type": "code",
   "execution_count": 3,
   "metadata": {
    "pycharm": {
     "name": "#%%\n"
    }
   },
   "outputs": [
    {
     "name": "stdout",
     "output_type": "stream",
     "text": [
      "Pregnancies                   1.580645\n",
      "Glucose                     141.064516\n",
      "BloodPressure                72.258065\n",
      "BMI                          36.422581\n",
      "DiabetesPedigreeFunction      0.549516\n",
      "Age                          22.580645\n",
      "Outcome                       1.000000\n",
      "dtype: float64\n"
     ]
    },
    {
     "data": {
      "text/plain": [
       "' 可见年轻的人士得糖尿病,因为是葡萄糖值偏高,肥胖的原因造成的\\nPregnancies                   1.580645  糖尿病该特征均值4.86,非糖均值:3.29\\nGlucose                     141.064516  糖尿病该特征均值140,非糖均值:110\\nBloodPressure                72.258065  糖尿病该特征均值75,非糖均值:71\\nBMI                          36.422581  糖尿病该特征均值35,非糖均值:30\\nDiabetesPedigreeFunction      0.549516  糖尿病该特征均值0.55,非糖均值:0.42\\nAge                          22.580645  糖尿病该特征均值37,非糖均值:31\\nOutcome                       1.000000\\n'"
      ]
     },
     "execution_count": 3,
     "metadata": {},
     "output_type": "execute_result"
    }
   ],
   "source": [
    "print(check.mean(axis=0))\n",
    "\"\"\" 可见年轻的人士得糖尿病,因为是葡萄糖值偏高,肥胖的原因造成的\n",
    "Pregnancies                   1.580645  糖尿病该特征均值4.86,非糖均值:3.29\n",
    "Glucose                     141.064516  糖尿病该特征均值140,非糖均值:110\n",
    "BloodPressure                72.258065  糖尿病该特征均值75,非糖均值:71\n",
    "BMI                          36.422581  糖尿病该特征均值35,非糖均值:30\n",
    "DiabetesPedigreeFunction      0.549516  糖尿病该特征均值0.55,非糖均值:0.42\n",
    "Age                          22.580645  糖尿病该特征均值37,非糖均值:31\n",
    "Outcome                       1.000000\n",
    "\"\"\"\n"
   ]
  },
  {
   "cell_type": "code",
   "execution_count": 4,
   "metadata": {
    "pycharm": {
     "name": "#%%\n"
    }
   },
   "outputs": [
    {
     "data": {
      "image/png": "[encoded data removed]",
      "text/plain": [
       "<Figure size 432x288 with 1 Axes>"
      ]
     },
     "metadata": {},
     "output_type": "display_data"
    }
   ],
   "source": [
    "# ------------------------------------数据可视化展示------------------------------\n",
    "# -------------draw 1 --------------\n",
    "mp.figure(\"总样本中的age频率分布\", facecolor=\"lightgray\")\n",
    "mp.title(\"总样本中的age频率分布\")\n",
    "pima_data[\"Age\"].hist(label=\"age-总体样本\")\n",
    "pima_data.loc[pima_data[\"Outcome\"] == 0, \"Age\"].hist(label=\"没糖尿病人的Age\")\n",
    "mp.xlabel(\"Age值\")\n",
    "mp.ylabel(\"人数\")\n",
    "mp.grid()\n",
    "mp.legend()\n",
    "mp.grid(\":\", alpha=0.7)\n",
    "mp.show()"
   ]
  },
  {
   "cell_type": "code",
   "execution_count": 5,
   "metadata": {
    "pycharm": {
     "name": "#%%\n"
    }
   },
   "outputs": [
    {
     "data": {
      "image/png": "[encoded data removed]",
      "text/plain": [
       "<Figure size 432x288 with 1 Axes>"
      ]
     },
     "metadata": {},
     "output_type": "display_data"
    }
   ],
   "source": [
    "# -------------draw 2 --------------\n",
    "mp.figure(\"得糖尿病人的Age频率分布\", facecolor=\"lightgray\")\n",
    "mp.title(\"得糖尿病人的Age频率分布\")\n",
    "pima_data.loc[pima_data[\"Outcome\"] == 1, \"BMI\"].hist(label=\"得糖尿病人的Age\")\n",
    "mp.xlabel(\"Age值\")\n",
    "mp.ylabel(\"人数\")\n",
    "mp.grid()\n",
    "mp.legend()\n",
    "mp.grid(\":\", alpha=0.7)\n",
    "mp.show()"
   ]
  },
  {
   "cell_type": "code",
   "execution_count": 6,
   "metadata": {
    "pycharm": {
     "name": "#%%\n"
    }
   },
   "outputs": [
    {
     "data": {
      "image/png": "[encoded data removed]",
      "text/plain": [
       "<Figure size 432x288 with 1 Axes>"
      ]
     },
     "metadata": {},
     "output_type": "display_data"
    }
   ],
   "source": [
    "# -------------draw 3 --------------\n",
    "# draw heatmap  计算数据：　皮尔逊积矩相关系数　　　各个特征的相关系数\n",
    "cols = [\"Pregnancies\", \"Glucose\", \"BloodPressure\", \"BMI\", \"DiabetesPedigreeFunction\", \"Age\", \"Outcome\"]\n",
    "df_corr = pima_data[cols].corr()\n",
    "\n",
    "#   draw bar  Age对应各个特征的相关性\n",
    "mp.figure(\"Age对应各个特征的相关性\", facecolor=\"lightgray\")\n",
    "mp.title(\"Age对应各个特征的相关性\")\n",
    "df_barplot = df_corr[\"Age\"].sort_values()[::-1].drop(\"Age\")\n",
    "sns.barplot(df_barplot.index, df_barplot)\n",
    "mp.gcf().autofmt_xdate()\n",
    "mp.xlabel(\"特征\")\n",
    "mp.ylabel(\"特征相关系数\")\n",
    "mp.show()\n",
    "\n"
   ]
  }
 ],
 "metadata": {
  "kernelspec": {
   "display_name": "Python 3",
   "language": "python",
   "name": "python3"
  },
  "language_info": {
   "codemirror_mode": {
    "name": "ipython",
    "version": 3
   },
   "file_extension": ".py",
   "mimetype": "text/x-python",
   "name": "python",
   "nbconvert_exporter": "python",
   "pygments_lexer": "ipython3",
   "version": "3.6.8"
  },
  "pycharm": {
   "stem_cell": {
    "cell_type": "raw",
    "metadata": {
     "collapsed": false
    },
    "source": []
   }
  }
 },
 "nbformat": 4,
 "nbformat_minor": 1
}
